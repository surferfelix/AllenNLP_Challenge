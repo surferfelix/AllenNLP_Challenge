{
 "cells": [
  {
   "cell_type": "markdown",
   "metadata": {},
   "source": [
    "# Examples for SRL - allennlp\n",
    "\n",
    "The examples in this notebook work with the allennlp model. You can easily adapt the code to the output of a different model. \n",
    "\n",
    "The main purpose of the code presented here is to adapt Checklist to a complex sequence classification problem. Inspiration is taken from the NER notebook included in checklist. \n",
    "\n",
    "I'm sure there are more sophisticated tests - this is just supposed to get you started. \n",
    "\n",
    "Enjoy!"
   ]
  },
  {
   "cell_type": "code",
   "execution_count": 1,
   "metadata": {},
   "outputs": [],
   "source": [
    "from allennlp_models.pretrained import load_predictor"
   ]
  },
  {
   "cell_type": "code",
   "execution_count": 3,
   "metadata": {},
   "outputs": [],
   "source": [
    "import checklist\n",
    "from checklist.editor import Editor\n",
    "from checklist.perturb import Perturb\n",
    "from checklist.test_types import MFT, INV, DIR\n",
    "from checklist.expect import Expect"
   ]
  },
  {
   "cell_type": "code",
   "execution_count": 4,
   "metadata": {},
   "outputs": [
    {
     "name": "stderr",
     "output_type": "stream",
     "text": [
      "[nltk_data] Downloading package omw-1.4 to\n",
      "[nltk_data]     /Users/felixdenheijer/nltk_data...\n",
      "[nltk_data]   Package omw-1.4 is already up-to-date!\n"
     ]
    },
    {
     "data": {
      "text/plain": [
       "True"
      ]
     },
     "execution_count": 4,
     "metadata": {},
     "output_type": "execute_result"
    }
   ],
   "source": [
    "import nltk\n",
    "nltk.download('omw-1.4')"
   ]
  },
  {
   "cell_type": "code",
   "execution_count": 5,
   "metadata": {},
   "outputs": [
    {
     "name": "stdout",
     "output_type": "stream",
     "text": [
      "/Users/felixdenheijer/opt/anaconda3/envs/NLPT/lib/python3.8/site-packages/allennlp_models/__init__.py\n"
     ]
    }
   ],
   "source": [
    "import allennlp_models\n",
    "print(allennlp_models.__file__)"
   ]
  },
  {
   "cell_type": "code",
   "execution_count": 5,
   "metadata": {},
   "outputs": [],
   "source": [
    "from checklist.pred_wrapper import PredictorWrapper"
   ]
  },
  {
   "cell_type": "code",
   "execution_count": 8,
   "metadata": {},
   "outputs": [],
   "source": [
    "import logging"
   ]
  },
  {
   "cell_type": "code",
   "execution_count": 9,
   "metadata": {},
   "outputs": [],
   "source": [
    "# Turn off some of the INFO verbose messages\n",
    "logging.getLogger('allennlp.common.params').disabled = True \n",
    "logging.getLogger('allennlp.nn.initializers').disabled = True \n",
    "logging.getLogger('allennlp.modules.token_embedders.embedding').setLevel(logging.INFO) \n",
    "logging.getLogger('urllib3.connectionpool').disabled = True "
   ]
  },
  {
   "cell_type": "code",
   "execution_count": 10,
   "metadata": {},
   "outputs": [
    {
     "name": "stderr",
     "output_type": "stream",
     "text": [
      "2022-03-15 15:44:21,700 - INFO - allennlp.common.plugins - Plugin allennlp_models available\n",
      "2022-03-15 15:44:23,433 - WARNING - allennlp.common.model_card - lerc is not a registered model.\n",
      "2022-03-15 15:44:24,311 - INFO - allennlp.common.plugins - Plugin allennlp_models available\n",
      "2022-03-15 15:44:24,568 - INFO - cached_path - cache of https://storage.googleapis.com/allennlp-public-models/openie-model.2020.03.26.tar.gz is up-to-date\n",
      "2022-03-15 15:44:24,570 - INFO - allennlp.models.archival - loading archive file https://storage.googleapis.com/allennlp-public-models/openie-model.2020.03.26.tar.gz from cache at /Users/felixdenheijer/.allennlp/cache/60314a853eb0aaa774d176d878c62469d49872feb4f2bfd071a75c77f6d76707.1b91cc27e347f2df04ce771a304bee2b70a2c487626b67e277d44c593b868c25\n",
      "2022-03-15 15:44:24,572 - INFO - allennlp.models.archival - extracting archive file /Users/felixdenheijer/.allennlp/cache/60314a853eb0aaa774d176d878c62469d49872feb4f2bfd071a75c77f6d76707.1b91cc27e347f2df04ce771a304bee2b70a2c487626b67e277d44c593b868c25 to temp dir /var/folders/fw/x8844s2j5zg2gczvnb2c9gs40000gn/T/tmp08rbc05j\n",
      "2022-03-15 15:44:25,137 - INFO - allennlp.data.vocabulary - Loading token dictionary from /var/folders/fw/x8844s2j5zg2gczvnb2c9gs40000gn/T/tmp08rbc05j/vocabulary.\n",
      "2022-03-15 15:44:25,508 - INFO - allennlp.modules.token_embedders.embedding - Loading a model trained before embedding extension was implemented; pass an explicit vocab namespace if you want to extend the vocabulary.\n",
      "2022-03-15 15:44:25,558 - INFO - allennlp.models.archival - removing temporary unarchived model dir at /var/folders/fw/x8844s2j5zg2gczvnb2c9gs40000gn/T/tmp08rbc05j\n"
     ]
    },
    {
     "data": {
      "text/plain": [
       "{'verbs': [{'verb': 'killed',\n",
       "   'description': '[ARG0: The killer] [V: killed] [ARG1: the victim] [ARG2: with a knife] .',\n",
       "   'tags': ['B-ARG0',\n",
       "    'I-ARG0',\n",
       "    'B-V',\n",
       "    'B-ARG1',\n",
       "    'I-ARG1',\n",
       "    'B-ARG2',\n",
       "    'I-ARG2',\n",
       "    'I-ARG2',\n",
       "    'O']}],\n",
       " 'words': ['The',\n",
       "  'killer',\n",
       "  'killed',\n",
       "  'the',\n",
       "  'victim',\n",
       "  'with',\n",
       "  'a',\n",
       "  'knife',\n",
       "  '.']}"
      ]
     },
     "execution_count": 10,
     "metadata": {},
     "output_type": "execute_result"
    }
   ],
   "source": [
    "# load model and inspect output\n",
    "# allennlp srl model: https://docs.allennlp.org/models/main/models/structured_prediction/models/srl/\n",
    "# propbank labels\n",
    "# paper with a bit of error analysis: https://aclanthology.org/P17-1044.pdf\n",
    "\n",
    "srl_predictor = load_predictor('structured-prediction-srl')\n",
    "output = srl_predictor.predict(\"The killer killed the victim with a knife.\")\n",
    "output"
   ]
  },
  {
   "cell_type": "code",
   "execution_count": 12,
   "metadata": {},
   "outputs": [],
   "source": [
    "# pylint: disable=invalid-name,protected-access\n",
    "import logging\n",
    "import os\n",
    "import pathlib\n",
    "import shutil\n",
    "import tempfile\n",
    "from unittest import TestCase\n",
    "\n",
    "from allennlp.common.checks import log_pytorch_version_info\n",
    "\n",
    "TEST_DIR = tempfile.mkdtemp(prefix=\"allennlp_tests\")\n",
    "\n",
    "class AllenNlpTestCase(TestCase):  # pylint: disable=too-many-public-methods\n",
    "    \"\"\"\n",
    "    A custom subclass of :class:`~unittest.TestCase` that disables some of the\n",
    "    more verbose AllenNLP logging and that creates and destroys a temp directory\n",
    "    as a test fixture.\n",
    "    \"\"\"\n",
    "    PROJECT_ROOT = (pathlib.Path('__file__').parent / \"..\" / \"..\" / \"..\").resolve()  # pylint: disable=no-member\n",
    "    MODULE_ROOT = PROJECT_ROOT / \"allennlp\"\n",
    "    TOOLS_ROOT = MODULE_ROOT / \"tools\"\n",
    "    TESTS_ROOT = MODULE_ROOT / \"tests\"\n",
    "    FIXTURES_ROOT = TESTS_ROOT / \"fixtures\"\n",
    "\n",
    "    def setUp(self):\n",
    "        logging.basicConfig(format='%(asctime)s - %(levelname)s - %(name)s - %(message)s',\n",
    "                            level=logging.DEBUG)\n",
    "        # Disabling some of the more verbose logging statements that typically aren't very helpful\n",
    "        # in tests.\n",
    "        logging.getLogger('allennlp.common.params').disabled = True\n",
    "        logging.getLogger('allennlp.nn.initializers').disabled = True\n",
    "        logging.getLogger('allennlp.modules.token_embedders.embedding').setLevel(logging.INFO)\n",
    "        logging.getLogger('urllib3.connectionpool').disabled = True\n",
    "        log_pytorch_version_info()\n",
    "\n",
    "        self.TEST_DIR = pathlib.Path(TEST_DIR)\n",
    "\n",
    "        os.makedirs(self.TEST_DIR, exist_ok=True)\n",
    "\n",
    "    def tearDown(self):\n",
    "        shutil.rmtree(self.TEST_DIR)"
   ]
  },
  {
   "cell_type": "code",
   "execution_count": 13,
   "metadata": {},
   "outputs": [
    {
     "name": "stderr",
     "output_type": "stream",
     "text": [
      "2022-03-15 15:47:33,066 - INFO - allennlp.common.plugins - Plugin allennlp_models available\n",
      "2022-03-15 15:47:34,733 - WARNING - allennlp.common.model_card - lerc is not a registered model.\n",
      "2022-03-15 15:47:35,603 - INFO - allennlp.common.plugins - Plugin allennlp_models available\n",
      "2022-03-15 15:47:35,840 - INFO - cached_path - cache of https://storage.googleapis.com/allennlp-public-models/openie-model.2020.03.26.tar.gz is up-to-date\n",
      "2022-03-15 15:47:35,841 - INFO - allennlp.models.archival - loading archive file https://storage.googleapis.com/allennlp-public-models/openie-model.2020.03.26.tar.gz from cache at /Users/felixdenheijer/.allennlp/cache/60314a853eb0aaa774d176d878c62469d49872feb4f2bfd071a75c77f6d76707.1b91cc27e347f2df04ce771a304bee2b70a2c487626b67e277d44c593b868c25\n",
      "2022-03-15 15:47:35,842 - INFO - allennlp.models.archival - extracting archive file /Users/felixdenheijer/.allennlp/cache/60314a853eb0aaa774d176d878c62469d49872feb4f2bfd071a75c77f6d76707.1b91cc27e347f2df04ce771a304bee2b70a2c487626b67e277d44c593b868c25 to temp dir /var/folders/fw/x8844s2j5zg2gczvnb2c9gs40000gn/T/tmpia2u7vla\n",
      "2022-03-15 15:47:36,353 - INFO - allennlp.data.vocabulary - Loading token dictionary from /var/folders/fw/x8844s2j5zg2gczvnb2c9gs40000gn/T/tmpia2u7vla/vocabulary.\n",
      "2022-03-15 15:47:36,723 - INFO - allennlp.modules.token_embedders.embedding - Loading a model trained before embedding extension was implemented; pass an explicit vocab namespace if you want to extend the vocabulary.\n",
      "2022-03-15 15:47:36,774 - INFO - allennlp.models.archival - removing temporary unarchived model dir at /var/folders/fw/x8844s2j5zg2gczvnb2c9gs40000gn/T/tmpia2u7vla\n"
     ]
    },
    {
     "data": {
      "text/plain": [
       "{'verbs': [{'verb': 'broke',\n",
       "   'description': '[ARG0: The girl] [V: broke] [ARG1: the vase] [ARG2: with a basketball] .',\n",
       "   'tags': ['B-ARG0',\n",
       "    'I-ARG0',\n",
       "    'B-V',\n",
       "    'B-ARG1',\n",
       "    'I-ARG1',\n",
       "    'B-ARG2',\n",
       "    'I-ARG2',\n",
       "    'I-ARG2',\n",
       "    'O']}],\n",
       " 'words': ['The',\n",
       "  'girl',\n",
       "  'broke',\n",
       "  'the',\n",
       "  'vase',\n",
       "  'with',\n",
       "  'a',\n",
       "  'basketball',\n",
       "  '.']}"
      ]
     },
     "execution_count": 13,
     "metadata": {},
     "output_type": "execute_result"
    }
   ],
   "source": [
    "# load model and inspect output\n",
    "srl_predictor = load_predictor('structured-prediction-srl')\n",
    "output = srl_predictor.predict(\"The girl broke the vase with a basketball.\")\n",
    "output"
   ]
  },
  {
   "cell_type": "code",
   "execution_count": 13,
   "metadata": {},
   "outputs": [],
   "source": [
    "### added by pia ###\n",
    "\n",
    "def predict_srl(data):\n",
    "    \n",
    "    pred = []\n",
    "    for d in data:\n",
    "        pred.append(srl_predictor.predict(d))\n",
    "    return pred\n",
    "\n",
    "predict_and_conf = PredictorWrapper.wrap_predict(predict_srl)"
   ]
  },
  {
   "cell_type": "code",
   "execution_count": 14,
   "metadata": {},
   "outputs": [
    {
     "data": {
      "text/plain": [
       "([{'verbs': [{'verb': 'killed',\n",
       "     'description': '[ARG1: Ben Reynolds] was [V: killed] [ARG0: by someone] [ARGM-TMP: last night] .',\n",
       "     'tags': ['B-ARG1',\n",
       "      'I-ARG1',\n",
       "      'O',\n",
       "      'B-V',\n",
       "      'B-ARG0',\n",
       "      'I-ARG0',\n",
       "      'B-ARGM-TMP',\n",
       "      'I-ARGM-TMP',\n",
       "      'O']}],\n",
       "   'words': ['Ben',\n",
       "    'Reynolds',\n",
       "    'was',\n",
       "    'killed',\n",
       "    'by',\n",
       "    'someone',\n",
       "    'last',\n",
       "    'night',\n",
       "    '.']},\n",
       "  {'verbs': [{'verb': 'killed',\n",
       "     'description': '[ARG0: The killer] [V: killed] [ARG1: the victim] [ARG2: with a knife] .',\n",
       "     'tags': ['B-ARG0',\n",
       "      'I-ARG0',\n",
       "      'B-V',\n",
       "      'B-ARG1',\n",
       "      'I-ARG1',\n",
       "      'B-ARG2',\n",
       "      'I-ARG2',\n",
       "      'I-ARG2',\n",
       "      'O']}],\n",
       "   'words': ['The',\n",
       "    'killer',\n",
       "    'killed',\n",
       "    'the',\n",
       "    'victim',\n",
       "    'with',\n",
       "    'a',\n",
       "    'knife',\n",
       "    '.']}],\n",
       " array([1., 1.]))"
      ]
     },
     "execution_count": 14,
     "metadata": {},
     "output_type": "execute_result"
    }
   ],
   "source": [
    "d = [\"Ben Reynolds was killed by someone last night.\",\"The killer killed the victim with a knife.\" ]\n",
    "pred = predict_and_conf(d)\n",
    "pred"
   ]
  },
  {
   "cell_type": "code",
   "execution_count": 15,
   "metadata": {},
   "outputs": [],
   "source": [
    "def format_srl(x, pred, conf, label=None, meta=None):\n",
    "    \n",
    "    return pred['verbs'][0]['description']"
   ]
  },
  {
   "cell_type": "markdown",
   "metadata": {},
   "source": [
    "# Checklist examples"
   ]
  },
  {
   "cell_type": "code",
   "execution_count": 16,
   "metadata": {},
   "outputs": [],
   "source": [
    "# Helper function to extract target argument\n",
    "\n",
    "def get_arg(pred, arg_target='ARG1'):\n",
    "    # we assume one predicate:\n",
    "    predicate_arguments = pred['verbs'][0]\n",
    "    words = pred['words']\n",
    "    tags = predicate_arguments['tags']\n",
    "    \n",
    "    arg_list = []\n",
    "    for t, w in zip(tags, words):\n",
    "        arg = t\n",
    "        if '-' in t:\n",
    "            arg = t.split('-')[1]\n",
    "        if arg == arg_target:\n",
    "            arg_list.append(w)\n",
    "    arg_set = set(arg_list)\n",
    "    return arg_set\n",
    "\n",
    "\n",
    "# Helper function to display failures\n",
    "\n",
    "def format_srl(x, pred, conf, label=None, meta=None):\n",
    "    results = []\n",
    "    predicate_structure = pred['verbs'][0]['description']\n",
    "        \n",
    "    return predicate_structure\n",
    "\n"
   ]
  },
  {
   "cell_type": "markdown",
   "metadata": {},
   "source": [
    "# Test arg1 with names"
   ]
  },
  {
   "cell_type": "code",
   "execution_count": 17,
   "metadata": {},
   "outputs": [],
   "source": [
    "def found_arg1_people(x, pred, conf, label=None, meta=None):\n",
    "    \n",
    "    # people should be recognized as arg1\n",
    "\n",
    "    people = set([meta['first_name'], meta['last_name']])\n",
    "    arg_1 = get_arg(pred, arg_target='ARG1')\n",
    "\n",
    "    if arg_1 == people:\n",
    "        pass_ = True\n",
    "    else:\n",
    "        pass_ = False\n",
    "    return pass_\n",
    "\n",
    "\n",
    "expect_arg1 = Expect.single(found_arg1_people)"
   ]
  },
  {
   "cell_type": "markdown",
   "metadata": {},
   "source": [
    "## Western names"
   ]
  },
  {
   "cell_type": "code",
   "execution_count": 18,
   "metadata": {},
   "outputs": [
    {
     "name": "stdout",
     "output_type": "stream",
     "text": [
      "<class 'checklist.editor.MunchWithAdd'>\n",
      "meta [{'first_name': 'Benjamin', 'last_name': 'Rose'}, {'first_name': 'Kathryn', 'last_name': 'Roberts'}, {'first_name': 'Suzanne', 'last_name': 'Collins'}, {'first_name': 'Jennifer', 'last_name': 'King'}, {'first_name': 'Henry', 'last_name': 'King'}, {'first_name': 'Margaret', 'last_name': 'Robinson'}, {'first_name': 'Jill', 'last_name': 'Crawford'}, {'first_name': 'Walter', 'last_name': 'Jones'}, {'first_name': 'Alan', 'last_name': 'Davies'}, {'first_name': 'Diana', 'last_name': 'Ryan'}]\n",
      "data ['Someone killed Benjamin Rose last night.', 'Someone killed Kathryn Roberts last night.', 'Someone killed Suzanne Collins last night.', 'Someone killed Jennifer King last night.', 'Someone killed Henry King last night.', 'Someone killed Margaret Robinson last night.', 'Someone killed Jill Crawford last night.', 'Someone killed Walter Jones last night.', 'Someone killed Alan Davies last night.', 'Someone killed Diana Ryan last night.']\n"
     ]
    }
   ],
   "source": [
    "# initialize editor object\n",
    "editor = Editor()\n",
    "\n",
    "# create examples\n",
    "t = editor.template(\"Someone killed {first_name} {last_name} last night.\", meta=True, nsamples=10)\n",
    "\n",
    "print(type(t))\n",
    "\n",
    "for k, v in t.items():\n",
    "    print(k, v)"
   ]
  },
  {
   "cell_type": "code",
   "execution_count": 16,
   "metadata": {},
   "outputs": [
    {
     "name": "stdout",
     "output_type": "stream",
     "text": [
      "Predicting 10 examples\n",
      "Test cases:      10\n",
      "Fails (rate):    0 (0.0%)\n"
     ]
    }
   ],
   "source": [
    "# initialize a rest object\n",
    "test = MFT(**t, name = 'detect_arg1_name_default_position', expect=expect_arg1)\n",
    "test.run(predict_and_conf)\n",
    "test.summary(format_example_fn=format_srl)"
   ]
  },
  {
   "cell_type": "code",
   "execution_count": 17,
   "metadata": {},
   "outputs": [
    {
     "name": "stdout",
     "output_type": "stream",
     "text": [
      "preds [{'verbs': [{'verb': 'killed', 'description': '[ARG0: Someone] [V: killed] [ARG1: Richard Ford] [ARGM-TMP: last night] .', 'tags': ['B-ARG0', 'B-V', 'B-ARG1', 'I-ARG1', 'B-ARGM-TMP', 'I-ARGM-TMP', 'O']}], 'words': ['Someone', 'killed', 'Richard', 'Ford', 'last', 'night', '.']}, {'verbs': [{'verb': 'killed', 'description': '[ARG0: Someone] [V: killed] [ARG1: Jay Stevens] [ARGM-TMP: last night] .', 'tags': ['B-ARG0', 'B-V', 'B-ARG1', 'I-ARG1', 'B-ARGM-TMP', 'I-ARGM-TMP', 'O']}], 'words': ['Someone', 'killed', 'Jay', 'Stevens', 'last', 'night', '.']}, {'verbs': [{'verb': 'killed', 'description': '[ARG0: Someone] [V: killed] [ARG1: Kathryn Morris] [ARGM-TMP: last night] .', 'tags': ['B-ARG0', 'B-V', 'B-ARG1', 'I-ARG1', 'B-ARGM-TMP', 'I-ARGM-TMP', 'O']}], 'words': ['Someone', 'killed', 'Kathryn', 'Morris', 'last', 'night', '.']}, {'verbs': [{'verb': 'killed', 'description': '[ARG0: Someone] [V: killed] [ARG1: Lucy Bennett] [ARGM-TMP: last night] .', 'tags': ['B-ARG0', 'B-V', 'B-ARG1', 'I-ARG1', 'B-ARGM-TMP', 'I-ARGM-TMP', 'O']}], 'words': ['Someone', 'killed', 'Lucy', 'Bennett', 'last', 'night', '.']}, {'verbs': [{'verb': 'killed', 'description': '[ARG0: Someone] [V: killed] [ARG1: Angela Kelly] [ARGM-TMP: last night] .', 'tags': ['B-ARG0', 'B-V', 'B-ARG1', 'I-ARG1', 'B-ARGM-TMP', 'I-ARGM-TMP', 'O']}], 'words': ['Someone', 'killed', 'Angela', 'Kelly', 'last', 'night', '.']}, {'verbs': [{'verb': 'killed', 'description': '[ARG0: Someone] [V: killed] [ARG1: Bobby Marshall] [ARGM-TMP: last night] .', 'tags': ['B-ARG0', 'B-V', 'B-ARG1', 'I-ARG1', 'B-ARGM-TMP', 'I-ARGM-TMP', 'O']}], 'words': ['Someone', 'killed', 'Bobby', 'Marshall', 'last', 'night', '.']}, {'verbs': [{'verb': 'killed', 'description': '[ARG0: Someone] [V: killed] [ARG1: Samuel James] [ARGM-TMP: last night] .', 'tags': ['B-ARG0', 'B-V', 'B-ARG1', 'I-ARG1', 'B-ARGM-TMP', 'I-ARGM-TMP', 'O']}], 'words': ['Someone', 'killed', 'Samuel', 'James', 'last', 'night', '.']}, {'verbs': [{'verb': 'killed', 'description': '[ARG0: Someone] [V: killed] [ARG1: Alison Gordon] [ARGM-TMP: last night] .', 'tags': ['B-ARG0', 'B-V', 'B-ARG1', 'I-ARG1', 'B-ARGM-TMP', 'I-ARGM-TMP', 'O']}], 'words': ['Someone', 'killed', 'Alison', 'Gordon', 'last', 'night', '.']}, {'verbs': [{'verb': 'killed', 'description': '[ARG0: Someone] [V: killed] [ARG1: Grace Reed] [ARGM-TMP: last night] .', 'tags': ['B-ARG0', 'B-V', 'B-ARG1', 'I-ARG1', 'B-ARGM-TMP', 'I-ARGM-TMP', 'O']}], 'words': ['Someone', 'killed', 'Grace', 'Reed', 'last', 'night', '.']}, {'verbs': [{'verb': 'killed', 'description': '[ARG0: Someone] [V: killed] [ARG1: Nicole Hughes] [ARGM-TMP: last night] .', 'tags': ['B-ARG0', 'B-V', 'B-ARG1', 'I-ARG1', 'B-ARGM-TMP', 'I-ARGM-TMP', 'O']}], 'words': ['Someone', 'killed', 'Nicole', 'Hughes', 'last', 'night', '.']}]\n",
      "confs [1.0, 1.0, 1.0, 1.0, 1.0, 1.0, 1.0, 1.0, 1.0, 1.0]\n",
      "expect_results [array([ True]), array([ True]), array([ True]), array([ True]), array([ True]), array([ True]), array([ True]), array([ True]), array([ True]), array([ True])]\n",
      "passed [ True  True  True  True  True  True  True  True  True  True]\n"
     ]
    }
   ],
   "source": [
    "# the test object:\n",
    "#dir(test)\n",
    "for k, v in test.results.items():\n",
    "    print(k, v)"
   ]
  },
  {
   "cell_type": "code",
   "execution_count": 18,
   "metadata": {},
   "outputs": [
    {
     "name": "stdout",
     "output_type": "stream",
     "text": [
      "Test cases:      10\n",
      "Fails (rate):    0 (0.0%)\n"
     ]
    }
   ],
   "source": [
    "test.summary(format_example_fn=format_srl)"
   ]
  },
  {
   "cell_type": "code",
   "execution_count": 20,
   "metadata": {},
   "outputs": [
    {
     "name": "stdout",
     "output_type": "stream",
     "text": [
      "Predicting 10 examples\n",
      "Test cases:      10\n",
      "Fails (rate):    1 (10.0%)\n",
      "\n",
      "Example fails:\n",
      "[ARGM-DIS: Andrea] [ARG1: Richardson] was [V: killed] [ARG0: by someone] [ARGM-TMP: last night] .\n",
      "----\n"
     ]
    }
   ],
   "source": [
    "editor = Editor()\n",
    "t = editor.template(\"{first_name} {last_name} was killed by someone last night.\", meta=True, nsamples=10)\n",
    "test = MFT(**t, expect=expect_arg1)\n",
    "test.run(predict_and_conf)\n",
    "test.summary(format_example_fn=format_srl)"
   ]
  },
  {
   "cell_type": "code",
   "execution_count": 21,
   "metadata": {},
   "outputs": [
    {
     "name": "stdout",
     "output_type": "stream",
     "text": [
      "Predicting 10 examples\n",
      "Test cases:      10\n",
      "Fails (rate):    0 (0.0%)\n"
     ]
    }
   ],
   "source": [
    "editor = Editor()\n",
    "t = editor.template(\"It was {first_name} {last_name} who got killed last night.\", meta=True, nsamples=10)\n",
    "test = MFT(**t, expect=expect_arg1)\n",
    "test.run(predict_and_conf)\n",
    "test.summary(format_example_fn=format_srl)"
   ]
  },
  {
   "cell_type": "markdown",
   "metadata": {},
   "source": [
    "## Non-western names"
   ]
  },
  {
   "cell_type": "code",
   "execution_count": 22,
   "metadata": {},
   "outputs": [],
   "source": [
    "first = [x.split()[0] for x in editor.lexicons.male_from.Vietnam +  editor.lexicons.female_from.Vietnam]\n",
    "last = [x.split()[0] for x in editor.lexicons.last_from.Vietnam]\n"
   ]
  },
  {
   "cell_type": "code",
   "execution_count": 25,
   "metadata": {},
   "outputs": [
    {
     "name": "stdout",
     "output_type": "stream",
     "text": [
      "Predicting 10 examples\n",
      "Test cases:      10\n",
      "Fails (rate):    1 (10.0%)\n",
      "\n",
      "Example fails:\n",
      "[ARG0: Someone] [V: killed] [ARG1: Walter] Dương [ARGM-TMP: last night] .\n",
      "----\n"
     ]
    }
   ],
   "source": [
    "t = editor.template(\"Someone killed {first_name} {last_name}  last night.\", first_name=first, last_name=last, meta=True, nsamples=10)\n",
    "test = MFT(**t, expect=expect_arg1)\n",
    "test.run(predict_and_conf)\n",
    "test.summary(format_example_fn=format_srl)"
   ]
  },
  {
   "cell_type": "code",
   "execution_count": 24,
   "metadata": {},
   "outputs": [
    {
     "name": "stdout",
     "output_type": "stream",
     "text": [
      "Predicting 10 examples\n",
      "Test cases:      10\n",
      "Fails (rate):    1 (10.0%)\n",
      "\n",
      "Example fails:\n",
      "[V: Can] [ARG1: Ngo] was killed by someone last night .\n",
      "----\n"
     ]
    }
   ],
   "source": [
    "t = editor.template(\"{first_name} {last_name} was killed by someone last night.\", first_name=first, last_name=last, meta=True, nsamples=10)\n",
    "test = MFT(**t, expect=expect_arg1)\n",
    "test.run(predict_and_conf)\n",
    "test.summary(format_example_fn=format_srl)"
   ]
  },
  {
   "cell_type": "code",
   "execution_count": 27,
   "metadata": {},
   "outputs": [
    {
     "name": "stdout",
     "output_type": "stream",
     "text": [
      "Predicting 10 examples\n",
      "Test cases:      10\n",
      "Fails (rate):    3 (30.0%)\n",
      "\n",
      "Example fails:\n",
      "It was Charlotte [ARG1: Mã] [R-ARG1: who] was [V: killed] [ARGM-TMP: last night] .\n",
      "----\n",
      "It was Gioan Diem [R-ARG1: who] was [V: killed] [ARGM-TMP: last night] .\n",
      "----\n",
      "It was Mai [ARG1: Trương] [R-ARG1: who] was [V: killed] [ARGM-TMP: last night] .\n",
      "----\n"
     ]
    }
   ],
   "source": [
    "t = editor.template(\"It was {first_name} {last_name} who was killed last night.\", first_name=first, last_name=last, meta=True, nsamples=10)\n",
    "test = MFT(**t, expect=expect_arg1)\n",
    "test.run(predict_and_conf)\n",
    "test.summary(format_example_fn=format_srl)"
   ]
  },
  {
   "cell_type": "markdown",
   "metadata": {},
   "source": [
    "# Test instrument"
   ]
  },
  {
   "cell_type": "code",
   "execution_count": 28,
   "metadata": {},
   "outputs": [],
   "source": [
    "def found_arg2_instrument(x, pred, conf, label=None, meta=None):\n",
    "    \n",
    "    # people should be recognized as arg1\n",
    "    \n",
    "    instrument = set(meta['instrument'].split(' '))\n",
    "    arg_3 = get_arg(pred, arg_target='ARG2')\n",
    "\n",
    "    if arg_3 == instrument:\n",
    "        pass_ = True\n",
    "    else:\n",
    "        pass_ = False\n",
    "    return pass_\n",
    "\n",
    "\n",
    "expect_arg2 = Expect.single(found_arg2_instrument)"
   ]
  },
  {
   "cell_type": "code",
   "execution_count": 29,
   "metadata": {},
   "outputs": [
    {
     "name": "stdout",
     "output_type": "stream",
     "text": [
      "Predicting 1 examples\n",
      "Test cases:      1\n",
      "Fails (rate):    0 (0.0%)\n"
     ]
    }
   ],
   "source": [
    "t = editor.template(\"The girl broke the vase {instrument}.\", instrument=['with a football'],  meta=True, nsamples=1)\n",
    "test = MFT(**t, expect=expect_arg2)\n",
    "test.run(predict_and_conf)\n",
    "test.summary(format_example_fn=format_srl)"
   ]
  },
  {
   "cell_type": "code",
   "execution_count": 30,
   "metadata": {},
   "outputs": [
    {
     "name": "stdout",
     "output_type": "stream",
     "text": [
      "Predicting 1 examples\n",
      "Test cases:      1\n",
      "Fails (rate):    1 (100.0%)\n",
      "\n",
      "Example fails:\n",
      "[ARG0: The girl] [V: opened] [ARG1: the envenlope] [ARG3: with a knife] .\n",
      "----\n"
     ]
    }
   ],
   "source": [
    "t = editor.template(\"The girl opened the envenlope {instrument}.\", instrument=['with a knife'],  meta=True, nsamples=1)\n",
    "test = MFT(**t, expect=expect_arg2)\n",
    "test.run(predict_and_conf)\n",
    "test.summary(format_example_fn=format_srl)"
   ]
  },
  {
   "cell_type": "code",
   "execution_count": 31,
   "metadata": {},
   "outputs": [
    {
     "name": "stdout",
     "output_type": "stream",
     "text": [
      "Predicting 1 examples\n",
      "Test cases:      1\n",
      "Fails (rate):    1 (100.0%)\n",
      "\n",
      "Example fails:\n",
      "[ARG0: The knife] [V: opened] [ARG1: the envelope]\n",
      "----\n"
     ]
    }
   ],
   "source": [
    "t = editor.template(\"{instrument} opened the envelope\", instrument=['The knife'],  meta=True, nsamples=1)\n",
    "test = MFT(**t, expect=expect_arg2)\n",
    "test.run(predict_and_conf)\n",
    "test.summary(format_example_fn=format_srl)"
   ]
  },
  {
   "cell_type": "code",
   "execution_count": 32,
   "metadata": {},
   "outputs": [
    {
     "name": "stdout",
     "output_type": "stream",
     "text": [
      "Predicting 1 examples\n",
      "Test cases:      1\n",
      "Fails (rate):    1 (100.0%)\n",
      "\n",
      "Example fails:\n",
      "[ARG0: The wind] [V: shut] [ARG1: the door] .\n",
      "----\n"
     ]
    }
   ],
   "source": [
    "t = editor.template(\"{instrument} shut the door.\", instrument=['The wind'],  meta=True, nsamples=1)\n",
    "test = MFT(**t, expect=expect_arg2)\n",
    "test.run(predict_and_conf)\n",
    "test.summary(format_example_fn=format_srl)"
   ]
  },
  {
   "cell_type": "code",
   "execution_count": 33,
   "metadata": {},
   "outputs": [
    {
     "name": "stdout",
     "output_type": "stream",
     "text": [
      "Predicting 1 examples\n",
      "Test cases:      1\n",
      "Fails (rate):    1 (100.0%)\n",
      "\n",
      "Example fails:\n",
      "[ARG0: The ball] [V: broke] [ARG1: the window] .\n",
      "----\n"
     ]
    }
   ],
   "source": [
    "t = editor.template(\"{instrument} broke the window.\", instrument=['The ball'],  meta=True, nsamples=1)\n",
    "test = MFT(**t, expect=expect_arg2)\n",
    "test.run(predict_and_conf)\n",
    "test.summary(format_example_fn=format_srl)"
   ]
  },
  {
   "cell_type": "markdown",
   "metadata": {},
   "source": [
    "# Experimenting with other test types: DIR"
   ]
  },
  {
   "cell_type": "code",
   "execution_count": 168,
   "metadata": {},
   "outputs": [],
   "source": []
  },
  {
   "cell_type": "code",
   "execution_count": 55,
   "metadata": {},
   "outputs": [],
   "source": [
    "# dir(editor)\n",
    "# help(editor.template)"
   ]
  },
  {
   "cell_type": "code",
   "execution_count": 188,
   "metadata": {},
   "outputs": [],
   "source": [
    "import re\n",
    "def change_agent_instrument(x, meta=True, *args, **kwargs):\n",
    "    agents = ['John', 'Mary']\n",
    "    instruments = ['The hammer'] #, 'The hammer']\n",
    "    \n",
    "    ret = []\n",
    "    ret_meta = []\n",
    "    \n",
    "    for a in agents:\n",
    "        if re.search(r'\\b%s\\b' % a, x):\n",
    "            for i in instruments:\n",
    "                ret.append(re.sub(r'\\b%s\\b' % a, i, x))\n",
    "                ret_meta.append((a, i))\n",
    "                \n",
    "#             ret.extend([re.sub(r'\\b%s\\b' % a, i, x) for i in instruments])\n",
    "#             ret_meta.extend([(a, i) for i in instruments])\n",
    "    if meta:\n",
    "        return ret, ret_meta\n",
    "    else:\n",
    "        return ret\n",
    "    \n",
    "    \n",
    "    \n",
    "def change_instrument_mod(x, meta=True, *args, **kwargs):\n",
    "    instruments = ['the hammer', 'the key', 'the knife'] #, 'The hammer']\n",
    "    mods = ['the flower'] #, 'the stripes', 'the stain']\n",
    "    \n",
    "    ret = []\n",
    "    ret_meta = []\n",
    "    \n",
    "    for i in instruments:\n",
    "        if re.search(r'\\b%s\\b' % i, x):\n",
    "            for m in mods:\n",
    "                ret.append(re.sub(r'\\b%s\\b' % i, m, x))\n",
    "                ret_meta.append((i, m))\n",
    "                \n",
    "#             ret.extend([re.sub(r'\\b%s\\b' % a, i, x) for i in instruments])\n",
    "#             ret_meta.extend([(a, i) for i in instruments])\n",
    "    if meta:\n",
    "        return ret, ret_meta\n",
    "    else:\n",
    "        return ret\n",
    "    \n",
    "    \n",
    "# create test\n",
    "\n",
    "def get_arg_span(pred, target_span=[]):\n",
    "    # we assume one predicate:\n",
    "    predicate_arguments = pred['verbs'][0]\n",
    "    words = pred['words']\n",
    "    tags = predicate_arguments['tags']\n",
    "    \n",
    "    arg_list = []\n",
    "    for t, w in zip(tags, words):\n",
    "        arg = t\n",
    "        if '-' in t:\n",
    "            arg = t.split('-')[1]\n",
    "        if w in target_span:\n",
    "            arg_list.append(arg)\n",
    "    return arg_list\n"
   ]
  },
  {
   "cell_type": "code",
   "execution_count": 185,
   "metadata": {},
   "outputs": [],
   "source": [
    "\n",
    "\n",
    "def compare_spans(orig_pred, pred, orig_conf, conf, labels=None, meta=None):\n",
    "    \n",
    "    sp_orig = meta[0].split(' ')\n",
    "    sp_pred = meta[1].split(' ')\n",
    "    \n",
    "    \n",
    "    l_orig = set(get_arg_span(orig_pred, sp_orig))\n",
    "    l_pred = set(get_arg_span(pred, sp_pred))\n",
    "    \n",
    "    if l_orig == l_pred:\n",
    "        pass_ = False\n",
    "    else:\n",
    "        pass_ = True\n",
    "    \n",
    "    \n",
    "    return pass_\n",
    "\n",
    "expect_fn = Expect.pairwise(compare_spans)"
   ]
  },
  {
   "cell_type": "markdown",
   "metadata": {},
   "source": [
    "## Agent v.s. instrument"
   ]
  },
  {
   "cell_type": "code",
   "execution_count": 197,
   "metadata": {},
   "outputs": [],
   "source": [
    "# Prepare data\n",
    "\n",
    "data = ['John broke the vase.',\n",
    "       'Mary broke the window.',\n",
    "       'John openend the door.',\n",
    "       'Mary broke the log.',\n",
    "       'John broke the glass.',\n",
    "       'Mary broke the plate.']\n",
    "        \n",
    "\n",
    "t_p = Perturb.perturb(data, change_agent_instrument, \n",
    "                      meta=True, keep_original=True, n_samples=1)\n",
    "\n",
    "# Modify the structure of the meta-data so they can be used for this test\n",
    "new_meta=[]\n",
    "for m in t_p.meta:\n",
    "    new_meta.append(m[1])\n",
    "t_p.meta = new_meta\n"
   ]
  },
  {
   "cell_type": "code",
   "execution_count": null,
   "metadata": {},
   "outputs": [],
   "source": [
    "# run test\n",
    "test = DIR(**t_p, expect = expect_fn)\n",
    "test.run(predict_and_conf)\n",
    "test.summary(format_example_fn=format_srl)"
   ]
  },
  {
   "cell_type": "code",
   "execution_count": 191,
   "metadata": {},
   "outputs": [
    {
     "name": "stdout",
     "output_type": "stream",
     "text": [
      "[{'verbs': [{'verb': 'broke', 'description': '[ARG0: John] [V: broke] [ARG1: the vase] .', 'tags': ['B-ARG0', 'B-V', 'B-ARG1', 'I-ARG1', 'O']}], 'words': ['John', 'broke', 'the', 'vase', '.']}\n",
      " {'verbs': [{'verb': 'broke', 'description': '[ARG0: The hammer] [V: broke] [ARG1: the vase] .', 'tags': ['B-ARG0', 'I-ARG0', 'B-V', 'B-ARG1', 'I-ARG1', 'O']}], 'words': ['The', 'hammer', 'broke', 'the', 'vase', '.']}]\n",
      "\n",
      "[{'verbs': [{'verb': 'broke', 'description': '[ARG0: Mary] [V: broke] [ARG1: the window] .', 'tags': ['B-ARG0', 'B-V', 'B-ARG1', 'I-ARG1', 'O']}], 'words': ['Mary', 'broke', 'the', 'window', '.']}\n",
      " {'verbs': [{'verb': 'broke', 'description': '[ARG0: The hammer] [V: broke] [ARG1: the window] .', 'tags': ['B-ARG0', 'I-ARG0', 'B-V', 'B-ARG1', 'I-ARG1', 'O']}], 'words': ['The', 'hammer', 'broke', 'the', 'window', '.']}]\n",
      "\n"
     ]
    }
   ],
   "source": [
    "# inspect results\n",
    "# ask yourself: is this test useful? what can it do? what can't it do?\n",
    "for p in test.results.preds[:2]:\n",
    "    print(p)\n",
    "    print()"
   ]
  },
  {
   "cell_type": "markdown",
   "metadata": {},
   "source": [
    "## Instrument v.s. NP modifier"
   ]
  },
  {
   "cell_type": "code",
   "execution_count": 198,
   "metadata": {},
   "outputs": [],
   "source": [
    "\n",
    "data = ['John broke the vase with the hammer.',\n",
    "       'Mary broke the window with the hammer.',\n",
    "       'John openend the door with the key.',\n",
    "       'John broke the glass with the hammer.',\n",
    "       'Mary openend the envelope with the knife.']\n",
    "        "
   ]
  },
  {
   "cell_type": "code",
   "execution_count": 199,
   "metadata": {},
   "outputs": [
    {
     "data": {
      "text/plain": [
       "MunchWithAdd({'data': [['John broke the vase with the hammer.', 'John broke the vase with the flower.'], ['Mary broke the window with the hammer.', 'Mary broke the window with the flower.'], ['John openend the door with the key.', 'John openend the door with the flower.'], ['John broke the glass with the hammer.', 'John broke the glass with the flower.'], ['Mary openend the envelope with the knife.', 'Mary openend the envelope with the flower.']], 'meta': [('the hammer', 'the flower'), ('the hammer', 'the flower'), ('the key', 'the flower'), ('the hammer', 'the flower'), ('the knife', 'the flower')]})"
      ]
     },
     "execution_count": 199,
     "metadata": {},
     "output_type": "execute_result"
    }
   ],
   "source": [
    "t_p = Perturb.perturb(data, change_instrument_mod, \n",
    "                      meta=True, keep_original=True, n_samples=1)\n",
    "new_meta=[]\n",
    "for m in t_p.meta:\n",
    "    new_meta.append(m[1])\n",
    "t_p.meta = new_meta\n",
    "\n",
    "\n",
    "t_p"
   ]
  },
  {
   "cell_type": "code",
   "execution_count": 200,
   "metadata": {},
   "outputs": [
    {
     "name": "stdout",
     "output_type": "stream",
     "text": [
      "running\n",
      "Predicting 10 examples\n",
      "Test cases:      5\n",
      "Fails (rate):    3 (60.0%)\n",
      "\n",
      "Example fails:\n",
      "[ARGM-MNR: John] [V: openend] [ARG1: the door] [ARGM-MNR: with the key] .\n",
      "[ARGM-MNR: John] [V: openend] [ARG1: the door] [ARGM-MNR: with the flower] .\n",
      "\n",
      "----\n",
      "[ARG0: John] [V: broke] [ARG1: the vase] [ARG2: with the hammer] .\n",
      "[ARG0: John] [V: broke] [ARG1: the vase] [ARG2: with the flower] .\n",
      "\n",
      "----\n",
      "[ARG0: Mary] [V: openend] [ARG1: the envelope] [ARGM-MNR: with the knife] .\n",
      "[ARG0: Mary] [V: openend] [ARG1: the envelope] [ARGM-MNR: with the flower] .\n",
      "\n",
      "----\n"
     ]
    }
   ],
   "source": [
    "test = DIR(**t_p, expect = expect_fn)\n",
    "print('running')\n",
    "test.run(predict_and_conf)\n",
    "test.summary(format_example_fn=format_srl)"
   ]
  },
  {
   "cell_type": "code",
   "execution_count": 202,
   "metadata": {},
   "outputs": [
    {
     "name": "stdout",
     "output_type": "stream",
     "text": [
      "[{'verbs': [{'verb': 'broke', 'description': '[ARG0: John] [V: broke] [ARG1: the vase] [ARG2: with the hammer] .', 'tags': ['B-ARG0', 'B-V', 'B-ARG1', 'I-ARG1', 'B-ARG2', 'I-ARG2', 'I-ARG2', 'O']}], 'words': ['John', 'broke', 'the', 'vase', 'with', 'the', 'hammer', '.']}\n",
      " {'verbs': [{'verb': 'broke', 'description': '[ARG0: John] [V: broke] [ARG1: the vase] [ARG2: with the flower] .', 'tags': ['B-ARG0', 'B-V', 'B-ARG1', 'I-ARG1', 'B-ARG2', 'I-ARG2', 'I-ARG2', 'O']}], 'words': ['John', 'broke', 'the', 'vase', 'with', 'the', 'flower', '.']}]\n",
      "\n",
      "[{'verbs': [{'verb': 'broke', 'description': '[ARG0: Mary] [V: broke] [ARG1: the window] [ARG2: with the hammer] .', 'tags': ['B-ARG0', 'B-V', 'B-ARG1', 'I-ARG1', 'B-ARG2', 'I-ARG2', 'I-ARG2', 'O']}], 'words': ['Mary', 'broke', 'the', 'window', 'with', 'the', 'hammer', '.']}\n",
      " {'verbs': [{'verb': 'broke', 'description': '[ARG0: Mary] [V: broke] [ARG1: the window] [ARGM-MNR: with the flower] .', 'tags': ['B-ARG0', 'B-V', 'B-ARG1', 'I-ARG1', 'B-ARGM-MNR', 'I-ARGM-MNR', 'I-ARGM-MNR', 'O']}], 'words': ['Mary', 'broke', 'the', 'window', 'with', 'the', 'flower', '.']}]\n",
      "\n",
      "[{'verbs': [{'verb': 'openend', 'description': '[ARGM-MNR: John] [V: openend] [ARG1: the door] [ARGM-MNR: with the key] .', 'tags': ['B-ARGM-MNR', 'B-V', 'B-ARG1', 'I-ARG1', 'B-ARGM-MNR', 'I-ARGM-MNR', 'I-ARGM-MNR', 'O']}], 'words': ['John', 'openend', 'the', 'door', 'with', 'the', 'key', '.']}\n",
      " {'verbs': [{'verb': 'openend', 'description': '[ARGM-MNR: John] [V: openend] [ARG1: the door] [ARGM-MNR: with the flower] .', 'tags': ['B-ARGM-MNR', 'B-V', 'B-ARG1', 'I-ARG1', 'B-ARGM-MNR', 'I-ARGM-MNR', 'I-ARGM-MNR', 'O']}], 'words': ['John', 'openend', 'the', 'door', 'with', 'the', 'flower', '.']}]\n",
      "\n",
      "[{'verbs': [{'verb': 'broke', 'description': '[ARG0: John] [V: broke] [ARG1: the glass] [ARG2: with the hammer] .', 'tags': ['B-ARG0', 'B-V', 'B-ARG1', 'I-ARG1', 'B-ARG2', 'I-ARG2', 'I-ARG2', 'O']}], 'words': ['John', 'broke', 'the', 'glass', 'with', 'the', 'hammer', '.']}\n",
      " {'verbs': [{'verb': 'broke', 'description': '[ARG0: John] [V: broke] [ARG1: the glass] [ARGM-MNR: with the flower] .', 'tags': ['B-ARG0', 'B-V', 'B-ARG1', 'I-ARG1', 'B-ARGM-MNR', 'I-ARGM-MNR', 'I-ARGM-MNR', 'O']}], 'words': ['John', 'broke', 'the', 'glass', 'with', 'the', 'flower', '.']}]\n",
      "\n",
      "[{'verbs': [{'verb': 'openend', 'description': '[ARG0: Mary] [V: openend] [ARG1: the envelope] [ARGM-MNR: with the knife] .', 'tags': ['B-ARG0', 'B-V', 'B-ARG1', 'I-ARG1', 'B-ARGM-MNR', 'I-ARGM-MNR', 'I-ARGM-MNR', 'O']}], 'words': ['Mary', 'openend', 'the', 'envelope', 'with', 'the', 'knife', '.']}\n",
      " {'verbs': [{'verb': 'openend', 'description': '[ARG0: Mary] [V: openend] [ARG1: the envelope] [ARGM-MNR: with the flower] .', 'tags': ['B-ARG0', 'B-V', 'B-ARG1', 'I-ARG1', 'B-ARGM-MNR', 'I-ARGM-MNR', 'I-ARGM-MNR', 'O']}], 'words': ['Mary', 'openend', 'the', 'envelope', 'with', 'the', 'flower', '.']}]\n",
      "\n"
     ]
    }
   ],
   "source": [
    "for pred in test.results.preds:\n",
    "    print(pred)\n",
    "    print()"
   ]
  },
  {
   "cell_type": "code",
   "execution_count": null,
   "metadata": {},
   "outputs": [],
   "source": []
  }
 ],
 "metadata": {
  "kernelspec": {
   "display_name": "Python 3",
   "language": "python",
   "name": "python3"
  },
  "language_info": {
   "codemirror_mode": {
    "name": "ipython",
    "version": 3
   },
   "file_extension": ".py",
   "mimetype": "text/x-python",
   "name": "python",
   "nbconvert_exporter": "python",
   "pygments_lexer": "ipython3",
   "version": "3.8.12"
  }
 },
 "nbformat": 4,
 "nbformat_minor": 4
}
